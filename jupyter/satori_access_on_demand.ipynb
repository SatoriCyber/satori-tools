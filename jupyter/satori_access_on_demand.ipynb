{
 "cells": [
  {
   "cell_type": "markdown",
   "id": "27ad8970",
   "metadata": {},
   "source": [
    "### This example creates a Satori Dataset, enables it, and then assigns a user to it"
   ]
  },
  {
   "cell_type": "code",
   "execution_count": null,
   "id": "974c2b12",
   "metadata": {},
   "outputs": [],
   "source": [
    "import json\n",
    "import requests\n",
    "import datetime\n",
    "\n",
    "# Authenticate to Satori for a bearer token\n",
    "# You need to get a service account and key from the Satori management UX\n",
    "satori_account_id = \"YOUR_SATORI_ACCOUNT_ID\"\n",
    "satori_serviceaccount_id = \"YOUR_SATORI_SERVICE_ID\"\n",
    "satori_serviceaccount_key = \"YOUR_SATORI_SERVICE_KEY\"\n",
    "# API host can be left as-is for all Satori production accounts\n",
    "satori_apihost = \"app.satoricyber.com\"\n",
    "\n",
    "# Various variables for creating a new dataset, enabling it, \n",
    "# and then assigning a user to that dataset\n",
    "\n",
    "# You can search for an exact Satori Datastore ID using its display name\n",
    "# (or, change this code to use the Datastore ID if you have it already)\n",
    "desired_satori_datastore = \"The Friendly Display Name for a Satori Datastore\"\n",
    "\n",
    "# The desired 1. database name, 2. schema/shard name, and 3. user we want to add\n",
    "desired_database_name = \"postgres\"\n",
    "desired_shard_name = \"public\"\n",
    "desired_new_user = \"postgres_user:ro\"\n",
    "\n",
    "# The desired duration, measured in hours\n",
    "desired_access_duration = \"5\"\n",
    "\n",
    "# A Satori Security Policy (data filtering, masking) that we will assign to this new user\n",
    "# Since this is an infrequent or slow-moving item, we have hardwired its ID here :)\n",
    "# You could also look it up via a different API\n",
    "desired_security_policy = \"SATORI_SECURITY_POLICY_ID\"\n",
    "\n",
    "# Desired Access level, choices are READ_ONLY, READ_WRITE, OWNER\n",
    "desired_access_level = \"READ_ONLY\""
   ]
  },
  {
   "cell_type": "markdown",
   "id": "1e0ca30a",
   "metadata": {},
   "source": [
    "### In theory you don't have to change anything below this line"
   ]
  },
  {
   "cell_type": "markdown",
   "id": "af1f6b12",
   "metadata": {},
   "source": [
    "### First, we define several functions and Second, we run them in sequence"
   ]
  },
  {
   "cell_type": "code",
   "execution_count": null,
   "id": "e34388d2",
   "metadata": {},
   "outputs": [],
   "source": [
    "def satori_auth():\n",
    "    authheaders = {'content-type': 'application/json','accept': 'application/json'}\n",
    "    url = \"https://{}/api/authentication/token\".format(satori_apihost)\n",
    "    payload = \"\"\"\n",
    "    {\"serviceAccountId\": \"' + satori_serviceaccount_id + '\", \"serviceAccountKey\": \"' + satori_serviceaccount_key + '\"}\n",
    "    \"\"\"\n",
    "    try:\n",
    "        r = requests.post(url, headers=authheaders, data=payload)\n",
    "        response = r.json()\n",
    "        satori_token = response[\"token\"]\n",
    "    except Exception as err:\n",
    "        print(\"Bearer Token Failure: :\", err)\n",
    "        print(\"Exception TYPE:\", type(err))\n",
    "    else:\n",
    "        return satori_token"
   ]
  },
  {
   "cell_type": "markdown",
   "id": "f9f78adc",
   "metadata": {},
   "source": [
    "### Find our Satori Datastore ID using a search string"
   ]
  },
  {
   "cell_type": "code",
   "execution_count": null,
   "id": "3de25216",
   "metadata": {},
   "outputs": [],
   "source": [
    "def get_datastore_id(search_string):\n",
    "    \n",
    "    get_datastore_url = \"https://{}/api/v1/datastore?accountId={}&search={}\".format(satori_apihost, \n",
    "                                                                                    satori_account_id, \n",
    "                                                                                    search_string)\n",
    "    get_datastore_response = requests.request(\"GET\", get_datastore_url, headers=headers)\n",
    "    return get_datastore_response.json()['records'][0]['id']"
   ]
  },
  {
   "cell_type": "markdown",
   "id": "c17391ad",
   "metadata": {},
   "source": [
    "### The next function creates our Satori Dataset - it requires a POST with a body/payload. We have some items hardwired in the payload, and other items are variable-driven"
   ]
  },
  {
   "cell_type": "code",
   "execution_count": null,
   "id": "1c014bdf",
   "metadata": {},
   "outputs": [],
   "source": [
    "def create_dataset(datastore_id):\n",
    "    \n",
    "    new_dataset_payload = json.dumps({\n",
    "  \"name\": desired_database_name + \":\" + desired_shard_name ,\n",
    "  \"description\": \"A new customer and their dataset, added by Satori Rest API\",\n",
    "  \"ownersIds\": [],\n",
    "  \"includeLocations\": [\n",
    "    {\n",
    "      \"location\": {\n",
    "        \"type\": \"RELATIONAL_LOCATION\",\n",
    "        \"db\": desired_database_name,\n",
    "        \"schema\": desired_shard_name,\n",
    "        \"table\": None,\n",
    "        \"column\": None,\n",
    "        \"semiPath\": None\n",
    "      },\n",
    "      \"dataStoreId\": datastore_id\n",
    "    }\n",
    "  ],\n",
    "  \"excludeLocations\": []\n",
    "})\n",
    "    \n",
    "    create_dataset_url = \"https://{}/api/v1/dataset?accountId={}\".format(satori_apihost, \n",
    "                                                                         satori_account_id)\n",
    "    create_dataset_response = requests.request(\"POST\", \n",
    "                                               create_dataset_url, \n",
    "                                               headers=headers, \n",
    "                                               data=new_dataset_payload)\n",
    "    dataset_policy_id = create_dataset_response.json()['dataPolicyId']\n",
    "    return dataset_policy_id"
   ]
  },
  {
   "cell_type": "markdown",
   "id": "7a9505f8",
   "metadata": {},
   "source": [
    "### Once our Satori Dataset is created, it also generates a Satori \"Policy ID\", we now need to Enable it."
   ]
  },
  {
   "cell_type": "code",
   "execution_count": null,
   "id": "b29847e7",
   "metadata": {},
   "outputs": [],
   "source": [
    "def update_dataset_policy(dataset_policy_id):\n",
    "    create_dataset_policy_url = \"https://{}/api/v1/data-policy/{}/permissions\".format(satori_apihost, \n",
    "                                                                                      dataset_policy_id)\n",
    "    create_dataset_policy_body = payload = json.dumps({\n",
    "    \"permissionsEnabled\": True\n",
    "    })\n",
    "    create_dataset_policy_response = requests.request(\"PUT\", \n",
    "                                                      create_dataset_policy_url, \n",
    "                                                      headers=headers, \n",
    "                                                      data=create_dataset_policy_body)\n",
    "    return create_dataset_policy_response.text\n"
   ]
  },
  {
   "cell_type": "markdown",
   "id": "de5629d2",
   "metadata": {},
   "source": [
    "### And finally, we can add our new user to this Satori Dataset (underneath the hood, we are really associating this user with the Policy ID) - we use another POST with a body/payload. There are some hardwired items here, things like \"unused time limit\", \"days until revocation\", etc."
   ]
  },
  {
   "cell_type": "code",
   "execution_count": null,
   "id": "47bcb858",
   "metadata": {},
   "outputs": [],
   "source": [
    "def add_user_to_dataset(dataset_policy_id):\n",
    "    add_user_url = \"https://{}/api/v1/data-access-rule/instant-access?AccountId={}&parentId={}\".format(satori_apihost, \n",
    "                                                                                                       satori_account_id, \n",
    "                                                                                                       dataset_policy_id)\n",
    "\n",
    "    add_user_payload = json.dumps(\n",
    "    {\n",
    "    \"accessLevel\": desired_access_level,\n",
    "    \"timeLimit\": {\n",
    "    \"shouldExpire\": \"true\",\n",
    "    \"expiration\": str(satori_expiration.isoformat())\n",
    "    },\n",
    "    \"unusedTimeLimit\": {\n",
    "    \"unusedDaysUntilRevocation\": 1,\n",
    "    \"shouldRevoke\": \"true\"\n",
    "    },\n",
    "    \"securityPolicyIds\": [\n",
    "    desired_security_policy\n",
    "    ],\n",
    "    \"identity\": {\n",
    "    \"identity\": desired_new_user,\n",
    "    \"identityType\": \"USER\"\n",
    "    }\n",
    "    })\n",
    "    \n",
    "    response = requests.post(add_user_url, headers=headers, data=add_user_payload)\n",
    "    \n",
    "    return response.text"
   ]
  },
  {
   "cell_type": "markdown",
   "id": "8e3c1d0f",
   "metadata": {},
   "source": [
    "### The remainder of this example runs all of the functions above"
   ]
  },
  {
   "cell_type": "code",
   "execution_count": null,
   "id": "14dea867",
   "metadata": {},
   "outputs": [],
   "source": [
    "# Get our bearer token and generate all future headers\n",
    "headers = {'Authorization': 'Bearer {}'.format(satori_auth()), \n",
    "                                               'Content-Type': 'application/json', \n",
    "                                               'Accept': 'application/json'}"
   ]
  },
  {
   "cell_type": "code",
   "execution_count": null,
   "id": "302a570f",
   "metadata": {},
   "outputs": [],
   "source": [
    "# Convert desired expiration in 'hours' to valid python date\n",
    "satori_expiration = datetime.datetime.utcnow() + datetime.timedelta(hours=int(float(desired_access_duration))) "
   ]
  },
  {
   "cell_type": "code",
   "execution_count": null,
   "id": "a13acfcf",
   "metadata": {},
   "outputs": [],
   "source": [
    "# Get our Satori Datastore ID by searching for a unique name\n",
    "found_datastore_id = get_datastore_id(desired_satori_datastore)\n",
    "\n",
    "# Create a brand new dataset and get its Policy ID\n",
    "dataset_policy_id = create_dataset(found_datastore_id)\n",
    "\n",
    "# Set this Policy ID to 'enabled' (secured)\n",
    "update_dataset_policy(dataset_policy_id)\n",
    "\n",
    "# Add the new postgres DB username to this dataset, using constants from the top of this example\n",
    "add_user_to_dataset(dataset_policy_id)\n"
   ]
  },
  {
   "cell_type": "code",
   "execution_count": null,
   "id": "6dadff30",
   "metadata": {},
   "outputs": [],
   "source": []
  }
 ],
 "metadata": {
  "kernelspec": {
   "display_name": "Python 3 (ipykernel)",
   "language": "python",
   "name": "python3"
  },
  "language_info": {
   "codemirror_mode": {
    "name": "ipython",
    "version": 3
   },
   "file_extension": ".py",
   "mimetype": "text/x-python",
   "name": "python",
   "nbconvert_exporter": "python",
   "pygments_lexer": "ipython3",
   "version": "3.10.4"
  }
 },
 "nbformat": 4,
 "nbformat_minor": 5
}
